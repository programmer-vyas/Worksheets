{
 "cells": [
  {
   "cell_type": "markdown",
   "metadata": {},
   "source": [
    "## <font color=cyan>Question no. 12 We have a string \"I+Love+Python\", we have to replace \"+\" with \" \" in the string</font>"
   ]
  },
  {
   "cell_type": "code",
   "execution_count": 1,
   "metadata": {},
   "outputs": [
    {
     "data": {
      "text/plain": [
       "'I Love Python'"
      ]
     },
     "execution_count": 1,
     "metadata": {},
     "output_type": "execute_result"
    }
   ],
   "source": [
    "a = \"I+Love+Python\"\n",
    "new_a = a.replace(\"+\",\" \")\n",
    "new_a"
   ]
  },
  {
   "cell_type": "markdown",
   "metadata": {},
   "source": [
    "## <font color=viridis> Question no. 13 In this we will find the Unicode (\"a\" & \" $\") with the help of ord() function</font>"
   ]
  },
  {
   "cell_type": "code",
   "execution_count": 2,
   "metadata": {},
   "outputs": [
    {
     "name": "stdout",
     "output_type": "stream",
     "text": [
      "The ASCII value of a is 97\n",
      "The ASCII value of a is 36\n"
     ]
    }
   ],
   "source": [
    "print(\"The ASCII value of a is\",ord(\"a\"))\n",
    "print(\"The ASCII value of a is\",ord(\"$\"))"
   ]
  },
  {
   "cell_type": "markdown",
   "metadata": {},
   "source": [
    "## <font color=magenta>Question no. 15 We are going to sum & average of \"n\" natural number, value of \"n\" will be taken by user without using any loop</font> "
   ]
  },
  {
   "cell_type": "code",
   "execution_count": 3,
   "metadata": {},
   "outputs": [
    {
     "name": "stdout",
     "output_type": "stream",
     "text": [
      "Enter a number : 50\n",
      "1275\n",
      "25.5\n"
     ]
    }
   ],
   "source": [
    "n = int(input(\"Enter a number : \"))\n",
    "x = list(range(n))\n",
    "add = sum(x)+n\n",
    "\n",
    "# defining average\n",
    "avg = add/n       \n",
    "\n",
    "# printing both sum(add) & average\n",
    "print(add)\n",
    "print(avg)"
   ]
  }
 ],
 "metadata": {
  "kernelspec": {
   "display_name": "Python 3",
   "language": "python",
   "name": "python3"
  },
  "language_info": {
   "codemirror_mode": {
    "name": "ipython",
    "version": 3
   },
   "file_extension": ".py",
   "mimetype": "text/x-python",
   "name": "python",
   "nbconvert_exporter": "python",
   "pygments_lexer": "ipython3",
   "version": "3.8.3"
  }
 },
 "nbformat": 4,
 "nbformat_minor": 4
}
