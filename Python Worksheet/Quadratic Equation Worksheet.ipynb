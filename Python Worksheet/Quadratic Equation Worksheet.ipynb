{
 "cells": [
  {
   "cell_type": "markdown",
   "metadata": {},
   "source": [
    "# <font color=red> We are going to solve the Quadratic Equation (ax2 + bx + c = 0), coefficient & constant values taken by the user input</font>\n",
    "### before we start, first we import some important library"
   ]
  },
  {
   "cell_type": "code",
   "execution_count": 1,
   "metadata": {},
   "outputs": [],
   "source": [
    "import math"
   ]
  },
  {
   "cell_type": "markdown",
   "metadata": {},
   "source": [
    "\n",
    "\n",
    "#####  a,b,c are constant & x is a variablewe have to calcuilate the value of x from finding the value of Discriminant \n",
    "##### From discriminant ( disc= b^2 - 4*a*c) we will got 2 root values, in 3 conditions \n",
    "##### disc = 0 = Roots are real and equal\n",
    "##### disc > 0 = Roots are real & unequal\n",
    "##### disc < 0 = Roots are imaginary\n",
    "##### Roots calculation  r1 = ((-b) + (math.sqrt(disc))) / 2a First root\n",
    "#####                                 r2 = ((-b) + (math.sqrt(disc))) / 2a Second root\n"
   ]
  },
  {
   "cell_type": "code",
   "execution_count": null,
   "metadata": {},
   "outputs": [
    {
     "name": "stdout",
     "output_type": "stream",
     "text": [
      "Enter the coefficient of x square : 12\n",
      "Enter the coefficient of x : 4\n",
      "Enter constant : 7\n",
      "Discriminant =  -320\n",
      "Roots are Imaginary\n",
      "Type yes to return or Press any key to exit:yes\n",
      "Enter the coefficient of x square : 1\n",
      "Enter the coefficient of x : -5\n",
      "Enter constant : 6\n",
      "Discriminant =  1\n",
      "Roots are Real & Unequal\n",
      "First Root : 3.0\n",
      "Second Root : 2.0\n",
      "Enter the coefficient of x square : 1\n",
      "Enter the coefficient of x : -2\n",
      "Enter constant : 1\n",
      "Discriminant =  0\n",
      "Roots are Real & Equal\n",
      "First Root : 1.0\n",
      "Second Root : 1.0\n"
     ]
    }
   ],
   "source": [
    "run = \"yes\"\n",
    "while run==\"yes\":\n",
    "    a = int(input(\"Enter the coefficient of x square : \"))\n",
    "    b = int(input(\"Enter the coefficient of x : \"))\n",
    "    c = int(input(\"Enter constant : \"))\n",
    "\n",
    "    disc = b*b - 4*a*c\n",
    "\n",
    "    print(\"Discriminant = \",disc)\n",
    " \n",
    "    if disc == 0:\n",
    "        print(\"Roots are Real & Equal\")\n",
    "        r1 = (-b)/(2*a)    # in this disc is 0, so math.sqrt(disc) will be zero\n",
    "        r2 = (-b)/(2/a)\n",
    "        print(\"First Root :\",r1)\n",
    "        print(\"Second Root :\",r2)\n",
    "    elif disc > 0:\n",
    "        print(\"Roots are Real & Unequal\")\n",
    "        r1 = ((-b)+(math.sqrt(disc)))/(2*a)\n",
    "        r2 = ((-b)-(math.sqrt(disc)))/(2*a)\n",
    "        print(\"First Root :\",r1)\n",
    "        print(\"Second Root :\",r2)\n",
    "    else:\n",
    "        print(\"Roots are Imaginary\")\n",
    "        run = str(input(\"Type yes to return or Press any key to exit:\").casefold())\n",
    "exit()"
   ]
  },
  {
   "cell_type": "markdown",
   "metadata": {},
   "source": [
    "<b><font color=magenta>After giving input values to quadratic equation, we can see above result showing all the 3 conditions with 2 roots in each case. We put yes for looping / to see again with new values, now it will continuously taking input values from user. </font>\n"
   ]
  },
  {
   "cell_type": "code",
   "execution_count": null,
   "metadata": {},
   "outputs": [],
   "source": []
  }
 ],
 "metadata": {
  "kernelspec": {
   "display_name": "Python 3",
   "language": "python",
   "name": "python3"
  },
  "language_info": {
   "codemirror_mode": {
    "name": "ipython",
    "version": 3
   },
   "file_extension": ".py",
   "mimetype": "text/x-python",
   "name": "python",
   "nbconvert_exporter": "python",
   "pygments_lexer": "ipython3",
   "version": "3.8.3"
  }
 },
 "nbformat": 4,
 "nbformat_minor": 4
}
