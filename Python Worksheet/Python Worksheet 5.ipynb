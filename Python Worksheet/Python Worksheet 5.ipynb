{
 "cells": [
  {
   "cell_type": "markdown",
   "metadata": {},
   "source": [
    "# PYTHON – WORKSHEET 5"
   ]
  },
  {
   "cell_type": "markdown",
   "metadata": {},
   "source": [
    "## Q12 to Q15 are programming questions. Answer them in Jupyter Notebook.\n",
    "\n",
    "### Q.12 write a python program to square the elements of a list by using list comprehension."
   ]
  },
  {
   "cell_type": "code",
   "execution_count": 1,
   "metadata": {},
   "outputs": [
    {
     "name": "stdout",
     "output_type": "stream",
     "text": [
      "[1, 4, 9, 16, 25]\n"
     ]
    }
   ],
   "source": [
    "numbers = [1, 2, 3, 4, 5]\n",
    "\n",
    "squared_numbers = [number ** 2 for number in numbers]\n",
    "\n",
    "print(squared_numbers)"
   ]
  },
  {
   "cell_type": "markdown",
   "metadata": {},
   "source": [
    "### Q. 13Write a python program to drop duplicate elements from a list of numbers."
   ]
  },
  {
   "cell_type": "code",
   "execution_count": 2,
   "metadata": {},
   "outputs": [
    {
     "name": "stdout",
     "output_type": "stream",
     "text": [
      "['abcde', 'bcaed', 'cbaed', 'cbade']\n"
     ]
    }
   ],
   "source": [
    "mylist = [\"abcde\", \"bcaed\", \"abcde\", \"cbaed\", \"cbade\"]\n",
    "mylist = list(dict.fromkeys(mylist))\n",
    "print(mylist)"
   ]
  },
  {
   "cell_type": "markdown",
   "metadata": {},
   "source": [
    "### Q.14 Take two sets of numbers and try implementing the set operations - intersection, union, difference and symmetric_difference between them.\n"
   ]
  },
  {
   "cell_type": "code",
   "execution_count": 3,
   "metadata": {},
   "outputs": [
    {
     "name": "stdout",
     "output_type": "stream",
     "text": [
      "Intersection:\n",
      "{2, 3}\n",
      "union:\n",
      "{1, 2, 3, 4}\n",
      "difference:\n",
      "{9, 3, 5}\n",
      "symmetric_difference:\n",
      "{0, 2, 3, 5, 7, 9}\n"
     ]
    }
   ],
   "source": [
    "a = set([1, 2, 3])\n",
    "b = set([2, 3, 4])\n",
    "\n",
    "print(\"Intersection:\")\n",
    "result = {element for element in a if element in b}\n",
    "print(result)\n",
    "\n",
    "print(\"union:\")\n",
    "c = set()\n",
    "for element in a: \n",
    "    c.add(element)\n",
    "\n",
    "for element in b: \n",
    "    c.add(element)\n",
    "print(c)\n",
    "\n",
    "\n",
    "print(\"difference:\")\n",
    "a = set([3, 5, 9])\n",
    "b = set([4, 8, 8])\n",
    "c = {element for element in a if element not in b}\n",
    "print(c)\n",
    "\n",
    "print(\"symmetric_difference:\")\n",
    "a = set([2, 7, 9])\n",
    "b = set([3, 5, 0])\n",
    "c = set()\n",
    "\n",
    "for element in a:\n",
    "    if element not in b:\n",
    "        c.add(element)\n",
    "\n",
    "for element in b:\n",
    "    if element not in a:\n",
    "        c.add(element)\n",
    "\n",
    "print(c)"
   ]
  },
  {
   "cell_type": "markdown",
   "metadata": {},
   "source": [
    "#### Q.15 Write a python program to add the elements of a set."
   ]
  },
  {
   "cell_type": "code",
   "execution_count": 4,
   "metadata": {},
   "outputs": [
    {
     "name": "stdout",
     "output_type": "stream",
     "text": [
      "The Elements of Sets are: {'ubuntu', 'rasa', 'Django', 'fab', 'window', 'kali', 'Docker'}\n"
     ]
    }
   ],
   "source": [
    "X= {'fab', 'rasa', 'Docker','Django'}\n",
    "Y= {'kali', 'ubuntu','window'}\n",
    "Z= X|Y\n",
    "print(\"The Elements of Sets are:\",Z)"
   ]
  },
  {
   "cell_type": "code",
   "execution_count": null,
   "metadata": {},
   "outputs": [],
   "source": []
  }
 ],
 "metadata": {
  "kernelspec": {
   "display_name": "Python 3",
   "language": "python",
   "name": "python3"
  },
  "language_info": {
   "codemirror_mode": {
    "name": "ipython",
    "version": 3
   },
   "file_extension": ".py",
   "mimetype": "text/x-python",
   "name": "python",
   "nbconvert_exporter": "python",
   "pygments_lexer": "ipython3",
   "version": "3.8.3"
  }
 },
 "nbformat": 4,
 "nbformat_minor": 4
}
