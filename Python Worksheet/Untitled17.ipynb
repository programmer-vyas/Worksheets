{
 "cells": [
  {
   "cell_type": "markdown",
   "metadata": {},
   "source": [
    "# Python Worksheet 4"
   ]
  },
  {
   "cell_type": "markdown",
   "metadata": {},
   "source": [
    "# Q14. Write a python program to represent a user entered number in expanded form. \n",
    "## Ans:-"
   ]
  },
  {
   "cell_type": "code",
   "execution_count": 1,
   "metadata": {},
   "outputs": [],
   "source": [
    "def expandedForm(x):\n",
    "    string=\"\"\n",
    "    x=str(x)\n",
    "    for i in range(len(x)):\n",
    "        n=len(x)\n",
    "        string+=(\" \"+x[i]+\"0\"*(n-i-1)+\" +\")\n",
    "    string=string[:len(string)-1]\n",
    "    return string"
   ]
  },
  {
   "cell_type": "code",
   "execution_count": 2,
   "metadata": {},
   "outputs": [
    {
     "data": {
      "text/plain": [
       "' 4000000 + 500000 + 60000 + 2000 + 500 + 40 + 6 '"
      ]
     },
     "execution_count": 2,
     "metadata": {},
     "output_type": "execute_result"
    }
   ],
   "source": [
    "expandedForm(4562546)"
   ]
  },
  {
   "cell_type": "markdown",
   "metadata": {},
   "source": [
    "# OR"
   ]
  },
  {
   "cell_type": "code",
   "execution_count": 3,
   "metadata": {},
   "outputs": [],
   "source": [
    "def expand(num):\n",
    "    digits = str(num) # convert number to string\n",
    "    output = []\n",
    "    for i, digit in enumerate(digits):\n",
    "        output.append(\"(\" + digit + \"x10^\" + str(len(digits)-i-1) + \")\")\n",
    "    return \" + \".join(output)"
   ]
  },
  {
   "cell_type": "code",
   "execution_count": 4,
   "metadata": {},
   "outputs": [
    {
     "data": {
      "text/plain": [
       "'(6x10^6) + (2x10^5) + (5x10^4) + (4x10^3) + (1x10^2) + (9x10^1) + (8x10^0)'"
      ]
     },
     "execution_count": 4,
     "metadata": {},
     "output_type": "execute_result"
    }
   ],
   "source": [
    "expand(6254198)"
   ]
  },
  {
   "cell_type": "markdown",
   "metadata": {},
   "source": [
    "# Q15. Write a python program to determine whether the number entered by the user is an Armstrong number or not?"
   ]
  },
  {
   "cell_type": "code",
   "execution_count": 5,
   "metadata": {},
   "outputs": [
    {
     "name": "stdout",
     "output_type": "stream",
     "text": [
      "Enter Number to check for Armstrong 524\n",
      " 524 is not an Armstrong number\n"
     ]
    }
   ],
   "source": [
    "i =int(input(\"Enter Number to check for Armstrong \"))\n",
    "sum=0\n",
    "order = len(str(i))\n",
    "copy_i = i\n",
    "while (i>0):\n",
    "    digit = i%10\n",
    "    sum += digit **order\n",
    "    i = i//10\n",
    "    \n",
    "if (sum == copy_i):\n",
    "    print(f\"{copy_i} is an Armstrong number\")\n",
    "else:\n",
    "    print(f\" {copy_i} is not an Armstrong number\")"
   ]
  },
  {
   "cell_type": "code",
   "execution_count": null,
   "metadata": {},
   "outputs": [],
   "source": []
  }
 ],
 "metadata": {
  "kernelspec": {
   "display_name": "Python 3",
   "language": "python",
   "name": "python3"
  },
  "language_info": {
   "codemirror_mode": {
    "name": "ipython",
    "version": 3
   },
   "file_extension": ".py",
   "mimetype": "text/x-python",
   "name": "python",
   "nbconvert_exporter": "python",
   "pygments_lexer": "ipython3",
   "version": "3.8.3"
  }
 },
 "nbformat": 4,
 "nbformat_minor": 4
}
